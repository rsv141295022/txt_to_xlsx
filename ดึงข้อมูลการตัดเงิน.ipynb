{
  "nbformat": 4,
  "nbformat_minor": 0,
  "metadata": {
    "colab": {
      "provenance": []
    },
    "kernelspec": {
      "name": "python3",
      "display_name": "Python 3"
    },
    "language_info": {
      "name": "python"
    }
  },
  "cells": [
    {
      "cell_type": "code",
      "source": [
        "pip install PyPDF2"
      ],
      "metadata": {
        "colab": {
          "base_uri": "https://localhost:8080/"
        },
        "id": "RGL9n-Iy4MtS",
        "outputId": "09f618d9-7755-4dca-d279-4b5e8e711fbb"
      },
      "execution_count": null,
      "outputs": [
        {
          "output_type": "stream",
          "name": "stdout",
          "text": [
            "Looking in indexes: https://pypi.org/simple, https://us-python.pkg.dev/colab-wheels/public/simple/\n",
            "Collecting PyPDF2\n",
            "  Downloading pypdf2-3.0.0-py3-none-any.whl (232 kB)\n",
            "\u001b[K     |████████████████████████████████| 232 kB 7.6 MB/s \n",
            "\u001b[?25hRequirement already satisfied: typing_extensions>=3.10.0.0 in /usr/local/lib/python3.8/dist-packages (from PyPDF2) (4.4.0)\n",
            "Installing collected packages: PyPDF2\n",
            "Successfully installed PyPDF2-3.0.0\n"
          ]
        }
      ]
    },
    {
      "cell_type": "code",
      "source": [
        "import PyPDF2\n",
        "import numpy as np\n",
        "import pandas as pd"
      ],
      "metadata": {
        "id": "AMS_Dc8r4C5n"
      },
      "execution_count": null,
      "outputs": []
    },
    {
      "cell_type": "code",
      "source": [
        "data = {}\n",
        "for order in range(1,134):\n",
        "    reader = PyPDF2.PdfReader(f'/content/drive/MyDrive/Colab Notebooks/Pinnacle/ตารางชำระคำสั่งศาล/{order}.pdf')\n",
        "    text = reader.pages[0].extract_text()\n",
        "    data[f'{order}'] = text"
      ],
      "metadata": {
        "id": "jGu_D-wJwo3c"
      },
      "execution_count": null,
      "outputs": []
    },
    {
      "cell_type": "code",
      "source": [
        "df = pd.DataFrame([], columns=['ลำดับ', 'เลขที่สัญญา', 'ชื่อ-สกุล', 'สาขา', 'อัตราดอกเบี้ย', 'เริ่มต้นคิดดอกเบี้ย', 'มูลหนี้ทั้งหมด'])\n",
        "for order in range(1,134):\n",
        "    text = data[f'{order}']\n",
        "\n",
        "    if text.find('\\n \\nงวด') != -1:\n",
        "        header_end = '\\n \\nงวด'\n",
        "    elif text.find('\\n\\nงวด') != -1:\n",
        "        header_end = '\\n\\nงวด'\n",
        "    elif text.find('\\nงวด') != -1:\n",
        "        header_end = '\\nงวด'\n",
        "    else:\n",
        "        header_end = 'งวด'\n",
        "        \n",
        "    header_val = []\n",
        "    header = ['เลขที่สัญญา : ', 'ชื่อ-สกุล : ', 'สาขา : ', 'อัตราดอกเบี้ย : ', 'เริ่มต้นคิดดอกเบี้ย : ', 'มูลหนี้ทั้งหมด : ', header_end]\n",
        "    for i in range(len(header)):\n",
        "        if i == len(header)-1: break\n",
        "        start_acc = text.find(header[i]) + len(header[i])\n",
        "        end_acc = text.find(header[i+1])\n",
        "        header_val.append(text[start_acc:end_acc])\n",
        "    df.loc[order-1, 'ลำดับ'] = order\n",
        "    df.loc[order-1, 1:7] = header_val[:6]\n",
        "    for payment in text.split('\\n')[4:-1]:\n",
        "        array = np.array(payment.split(' '))\n",
        "        if len(array) < 4 : continue\n",
        "        item = array[0]\n",
        "        val = array[[2, 5, 6, 7, 8, 9]]\n",
        "        df.loc[order-1, [f'ชำระวันที่{item}', f'ชำระดอกเบี้ย{item}', f'ชำระเงินต้น{item}', f'ชำระอื่นๆ{item}', f'รวมชำระ{item}', f'ดอกเบี้ยค้าง{item}']] = val\n",
        "df.to_excel('all_payment.xlsx', index=False)"
      ],
      "metadata": {
        "id": "3aRpozeaMRzE",
        "colab": {
          "base_uri": "https://localhost:8080/"
        },
        "outputId": "11683762-7338-4e98-c5ba-8670624b215d"
      },
      "execution_count": null,
      "outputs": [
        {
          "output_type": "stream",
          "name": "stderr",
          "text": [
            "/usr/local/lib/python3.8/dist-packages/pandas/core/indexing.py:719: FutureWarning: Slicing a positional slice with .loc is not supported, and will raise TypeError in a future version.  Use .loc with labels or .iloc with positions instead.\n",
            "  indexer = self._get_setitem_indexer(key)\n"
          ]
        }
      ]
    }
  ]
}